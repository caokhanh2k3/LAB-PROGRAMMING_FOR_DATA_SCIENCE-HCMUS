{
 "cells": [
  {
   "cell_type": "code",
   "execution_count": 2,
   "id": "77b0cd6f",
   "metadata": {},
   "outputs": [],
   "source": [
    "import numpy as np"
   ]
  },
  {
   "cell_type": "code",
   "execution_count": 3,
   "id": "b02dd081",
   "metadata": {},
   "outputs": [
    {
     "name": "stdout",
     "output_type": "stream",
     "text": [
      "[0 1]\n"
     ]
    },
    {
     "data": {
      "text/plain": [
       "array([[0., 0., 0.],\n",
       "       [1., 1., 1.]])"
      ]
     },
     "execution_count": 3,
     "metadata": {},
     "output_type": "execute_result"
    }
   ],
   "source": [
    "ratings_mat = np.array([[1, 2, 3],\n",
    "                        [3, 0, 1]])\n",
    "\n",
    "# Create a 4x2 matrix\n",
    "similarities = np.array([[0, 1],\n",
    "                         [2, 3],\n",
    "                         [0, 1],\n",
    "                         [2, 3]])\n",
    "\n",
    "assert ratings_mat.shape == (2, 3)\n",
    "assert similarities.shape == (4, 2)\n",
    "\n",
    "\n",
    "\n",
    "a = ratings_mat\n",
    "\n",
    "s = similarities[0, :]\n",
    "print(s)\n",
    "w = ~np.isnan(a)*s.reshape(-1, 1)\n",
    "w = w/w.sum(axis = 0)\n",
    "w"
   ]
  },
  {
   "cell_type": "code",
   "execution_count": 5,
   "id": "8e3e906d",
   "metadata": {},
   "outputs": [
    {
     "data": {
      "text/plain": [
       "array([[[0. , 0. , 0. ],\n",
       "        [1. , 1. , 1. ]],\n",
       "\n",
       "       [[0.4, 0.4, 0.4],\n",
       "        [0.6, 0.6, 0.6]],\n",
       "\n",
       "       [[0. , 0. , 0. ],\n",
       "        [1. , 1. , 1. ]],\n",
       "\n",
       "       [[0.4, 0.4, 0.4],\n",
       "        [0.6, 0.6, 0.6]]])"
      ]
     },
     "execution_count": 5,
     "metadata": {},
     "output_type": "execute_result"
    }
   ],
   "source": [
    "# Create a 2x3 matrix\n",
    "\n",
    "ratings_mat = np.array([[1, 2, 3],\n",
    "                        [3, 0, 1]])\n",
    "# Create a 4x2 matrix\n",
    "similarities = np.array([[0, 1],\n",
    "                         [2, 3],\n",
    "                         [0, 1],\n",
    "                         [2, 3]])\n",
    "\n",
    "assert ratings_mat.shape == (2, 3)\n",
    "assert similarities.shape == (4, 2)\n",
    "\n",
    "\n",
    "\n",
    "\n",
    "weights = np.full((similarities.shape[0], ratings_mat.shape[0], ratings_mat.shape[1]), np.NaN)\n",
    "\n",
    "for i in range(similarities.shape[0]):\n",
    "    a = ratings_mat\n",
    "    s = similarities[i, :]\n",
    "    w = ~np.isnan(a)*s.reshape(-1, 1)\n",
    "    w = w/w.sum(axis = 0)\n",
    "\n",
    "    weights[i,:,:] = w      \n",
    "\n",
    "weights\n",
    "\n",
    "\n",
    "#================================================================================================================\n",
    "\n",
    "# for i in range(similarities.shape[0]):\n",
    "#     for j in range(ratings_mat.shape[1]):\n",
    "#         a = ratings_mat[:, j]\n",
    "#         s = similarities[i, :]\n",
    "#         w = ~np.isnan(a)*s\n",
    "#         w = w/w.sum(axis = 0)\n",
    "#         weights[i, :, j] = w \n",
    "        \n"
   ]
  },
  {
   "cell_type": "code",
   "execution_count": 3,
   "id": "a8d01759",
   "metadata": {},
   "outputs": [
    {
     "data": {
      "text/plain": [
       "array([[[0. , 0. , 0. ],\n",
       "        [1. , 1. , 1. ]],\n",
       "\n",
       "       [[0.4, 0.4, 0.4],\n",
       "        [0.6, 0.6, 0.6]],\n",
       "\n",
       "       [[0. , 0. , 0. ],\n",
       "        [1. , 1. , 1. ]],\n",
       "\n",
       "       [[0.4, 0.4, 0.4],\n",
       "        [0.6, 0.6, 0.6]]])"
      ]
     },
     "execution_count": 3,
     "metadata": {},
     "output_type": "execute_result"
    }
   ],
   "source": [
    "weights"
   ]
  },
  {
   "cell_type": "code",
   "execution_count": 99,
   "id": "3bcd9ae2",
   "metadata": {},
   "outputs": [
    {
     "data": {
      "text/plain": [
       "array([[[0. , 0. , 0. ],\n",
       "        [1. , 1. , 1. ]],\n",
       "\n",
       "       [[0.4, 0.4, 0.4],\n",
       "        [0.6, 0.6, 0.6]],\n",
       "\n",
       "       [[0. , 0. , 0. ],\n",
       "        [1. , 1. , 1. ]],\n",
       "\n",
       "       [[0.4, 0.4, 0.4],\n",
       "        [0.6, 0.6, 0.6]]])"
      ]
     },
     "execution_count": 99,
     "metadata": {},
     "output_type": "execute_result"
    }
   ],
   "source": [
    "ratings_mat = np.array([[1, 2, 3],\n",
    "                        [3, 0, 1]])\n",
    "similarities = np.array([[0, 1],\n",
    "                         [2, 3],\n",
    "                         [0, 1],\n",
    "                         [2, 3]])\n",
    "\n",
    "assert ratings_mat.shape == (2, 3)\n",
    "assert similarities.shape == (4, 2)\n",
    "\n",
    "\n",
    "# Broadcasting to calculate weights\n",
    "similarities = similarities[:, np.newaxis , :].reshape(4, -1, 1)\n",
    "\n",
    "a = ratings_mat\n",
    "w = ~np.isnan(a)*similarities\n",
    "w = w/w.sum(axis=1, keepdims=True)\n",
    "w\n"
   ]
  },
  {
   "cell_type": "code",
   "execution_count": 98,
   "id": "a8d66a9b",
   "metadata": {},
   "outputs": [
    {
     "name": "stdout",
     "output_type": "stream",
     "text": [
      "[[[0.  0.  0. ]\n",
      "  [1.  1.  1. ]]\n",
      "\n",
      " [[0.4 0.4 0.4]\n",
      "  [0.6 0.6 0.6]]\n",
      "\n",
      " [[0.  0.  0. ]\n",
      "  [1.  1.  1. ]]\n",
      "\n",
      " [[0.4 0.4 0.4]\n",
      "  [0.6 0.6 0.6]]]\n"
     ]
    }
   ],
   "source": [
    "import numpy as np\n",
    "\n",
    "# Your 3D array\n",
    "array_3d = np.array([[[0., 0., 0.],\n",
    "                      [1., 1., 1.]],\n",
    "                     \n",
    "                     [[2., 2., 2.],\n",
    "                      [3., 3., 3.]],\n",
    "                     \n",
    "                     [[0., 0., 0.],\n",
    "                      [1., 1., 1.]],\n",
    "                     \n",
    "                     [[2., 2., 2.],\n",
    "                      [3., 3., 3.]]])\n",
    "\n",
    "# Calculate weights\n",
    "weights = array_3d / np.sum(array_3d, axis=1, keepdims=True)\n",
    "\n",
    "print(weights)\n"
   ]
  },
  {
   "cell_type": "markdown",
   "id": "2ff24795",
   "metadata": {},
   "source": [
    "Giả sử chúng ta có ma trận `ratings`, trong đó các phần từ thể hiện điểm số mà user đánh giá anime tương ứng"
   ]
  },
  {
   "cell_type": "code",
   "execution_count": 83,
   "id": "b86a5fec",
   "metadata": {},
   "outputs": [
    {
     "data": {
      "text/plain": [
       "array([[ 5.,  4., nan,  1., nan],\n",
       "       [nan,  4.,  4.,  2.,  2.],\n",
       "       [ 3., nan, nan,  5.,  5.],\n",
       "       [nan,  3.,  4.,  4., nan]])"
      ]
     },
     "execution_count": 83,
     "metadata": {},
     "output_type": "execute_result"
    }
   ],
   "source": [
    "ratings = np.array([[5, 4, np.nan, 1, np.nan], [np.nan, 4, 4, 2, 2],\n",
    "                    [3, np.nan, np.nan, 5, 5],[np.nan, 3, 4, 4, np.nan]])\n",
    "ratings"
   ]
  },
  {
   "cell_type": "code",
   "execution_count": 84,
   "id": "92a556e3",
   "metadata": {},
   "outputs": [],
   "source": [
    "np.set_printoptions(suppress = True)"
   ]
  },
  {
   "cell_type": "markdown",
   "id": "a6f6c38f",
   "metadata": {},
   "source": [
    "Ở đây mình chỉ tính trên 1 user thôi :v còn phần tính trên batch (nhiều user) các bạn sẽ cơ hội tự trải nghiệm. Chúng ta sẽ xây dựng một mô hình đơn giản để dự đoán các phim mà user chưa đánh gía, hay nói cách khác là các ô `NaN`. Đầu tiên, chúng ta tưởng tượng mỗi dòng là một vector ứng với một user. Sau đó, chúng ta tính toán độ tương tự giữa các vector thông qua khoảng cách. "
   ]
  },
  {
   "cell_type": "code",
   "execution_count": 85,
   "id": "8376384a",
   "metadata": {},
   "outputs": [
    {
     "data": {
      "text/plain": [
       "array([1000.        ,    1.99600798,    0.33322226,    0.49975012])"
      ]
     },
     "execution_count": 85,
     "metadata": {},
     "output_type": "execute_result"
    }
   ],
   "source": [
    "# Lấy ra user đầu tiên\n",
    "r0 = ratings[0]\n",
    "\n",
    "# Lấy tất cả các user trừ cho user đầu tiên để tính khoảng cách, \n",
    "# sau đó tính mean của từng dòng để thu được độ tương tự giữa các user đối với user[0]\n",
    "s = np.nanmean(np.abs(ratings - r0), axis = 1)\n",
    "\n",
    "s = 1/(s + 0.001)\n",
    "s"
   ]
  },
  {
   "cell_type": "code",
   "execution_count": 86,
   "id": "f05e7956",
   "metadata": {},
   "outputs": [
    {
     "data": {
      "text/plain": [
       "array([[nan, nan],\n",
       "       [ 4.,  2.],\n",
       "       [nan,  5.],\n",
       "       [ 4., nan]])"
      ]
     },
     "execution_count": 86,
     "metadata": {},
     "output_type": "execute_result"
    }
   ],
   "source": [
    "# Lấy ra các cột mà user[0] chưa đánh giá\n",
    "a = ratings[:, np.isnan(r0)]\n",
    "a"
   ]
  },
  {
   "cell_type": "code",
   "execution_count": 90,
   "id": "bc6a9b56",
   "metadata": {},
   "outputs": [
    {
     "data": {
      "text/plain": [
       "array([[0.        , 0.        ],\n",
       "       [0.79976019, 0.85693889],\n",
       "       [0.        , 0.14306111],\n",
       "       [0.20023981, 0.        ]])"
      ]
     },
     "execution_count": 90,
     "metadata": {},
     "output_type": "execute_result"
    }
   ],
   "source": [
    "# Tạo ma trận trọng số dựa trên độ tương tự\n",
    "w = ~np.isnan(a)*s.reshape(-1, 1)\n",
    "# Chuẩn hoá trọng số\n",
    "w = w/w.sum(axis = 0)\n",
    "w"
   ]
  },
  {
   "cell_type": "code",
   "execution_count": 88,
   "id": "2446d791",
   "metadata": {},
   "outputs": [
    {
     "data": {
      "text/plain": [
       "array([4.        , 2.42918332])"
      ]
     },
     "execution_count": 88,
     "metadata": {},
     "output_type": "execute_result"
    }
   ],
   "source": [
    "# Kết quả dự đoán được\n",
    "np.nansum(a*w, axis = 0)"
   ]
  }
 ],
 "metadata": {
  "kernelspec": {
   "display_name": "Python 3 (ipykernel)",
   "language": "python",
   "name": "python3"
  },
  "language_info": {
   "codemirror_mode": {
    "name": "ipython",
    "version": 3
   },
   "file_extension": ".py",
   "mimetype": "text/x-python",
   "name": "python",
   "nbconvert_exporter": "python",
   "pygments_lexer": "ipython3",
   "version": "3.10.9"
  },
  "varInspector": {
   "cols": {
    "lenName": 16,
    "lenType": 16,
    "lenVar": 40
   },
   "kernels_config": {
    "python": {
     "delete_cmd_postfix": "",
     "delete_cmd_prefix": "del ",
     "library": "var_list.py",
     "varRefreshCmd": "print(var_dic_list())"
    },
    "r": {
     "delete_cmd_postfix": ") ",
     "delete_cmd_prefix": "rm(",
     "library": "var_list.r",
     "varRefreshCmd": "cat(var_dic_list()) "
    }
   },
   "types_to_exclude": [
    "module",
    "function",
    "builtin_function_or_method",
    "instance",
    "_Feature"
   ],
   "window_display": false
  }
 },
 "nbformat": 4,
 "nbformat_minor": 5
}
